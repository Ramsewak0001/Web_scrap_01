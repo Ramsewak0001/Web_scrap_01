{
 "cells": [
  {
   "cell_type": "code",
   "execution_count": null,
   "id": "0bd588ca-945a-4fb9-b631-b055f40462f8",
   "metadata": {},
   "outputs": [],
   "source": [
    "Q1. What is Web Scraping? Why is it Used? Give three areas where Web Scraping is used to get data."
   ]
  },
  {
   "cell_type": "code",
   "execution_count": null,
   "id": "8272fd75-254b-40ea-98ff-4a7122265d1e",
   "metadata": {},
   "outputs": [],
   "source": [
    "Web scraping is an automated method used to extract large amounts of data from websites. \n",
    "It is used for a variety of purposes, including data mining, price comparison, lead generation, and more. \n",
    "\n",
    "Here are three areas where web scraping is used to get data:\n",
    "1. Data mining: \n",
    "             Web scraping tools can be used to extract large amounts of data from websites and then analyze it to uncover \n",
    "             patterns, trends, and insights. This can be useful for research, business intelligence, and other data-driven\n",
    "             purposes.\n",
    "2. Price comparison: \n",
    "             Web scraping can be used to gather data from multiple online retailers and compare prices on products.\n",
    "3. Lead generation:\n",
    "             Web scrapers can be used to extract contact information from websites such as LinkedIn or other social media \n",
    "             platforms.\n"
   ]
  },
  {
   "cell_type": "code",
   "execution_count": null,
   "id": "ec3cce33-6806-455d-9563-4571025edb97",
   "metadata": {},
   "outputs": [],
   "source": [
    "-----------------------------------------------------------------------------------------------------------------------------"
   ]
  },
  {
   "cell_type": "code",
   "execution_count": null,
   "id": "bfa71795-1ef9-43d6-9cb9-31002eb737c1",
   "metadata": {},
   "outputs": [],
   "source": [
    "Q2. What are the different methods used for Web Scraping?"
   ]
  },
  {
   "cell_type": "code",
   "execution_count": null,
   "id": "5334d67a-42bf-45d9-ae01-4833a9ff3481",
   "metadata": {},
   "outputs": [],
   "source": [
    "There are many different ways to perform web scraping to obtain data from websites. These include using online services,\n",
    "particular API’s or even creating your code for web scraping from scratch.\n",
    "Here are some of the most common techniques used for Web Scraping:\n",
    "- Human copy-and-paste\n",
    "- Text pattern matching\n",
    "- HTTP programming\n",
    "- HTML parsing\n",
    "- DOM parsing\n",
    "- Vertical aggregation\n",
    "- Semantic annotation recognizing\n"
   ]
  },
  {
   "cell_type": "code",
   "execution_count": null,
   "id": "7d4aa9f4-4db8-4810-9570-43dc73365fde",
   "metadata": {},
   "outputs": [],
   "source": [
    "-----------------------------------------------------------------------------------------------------------------------------"
   ]
  },
  {
   "cell_type": "code",
   "execution_count": null,
   "id": "cc554b59-2c02-4fdd-8537-e536b9ebf5eb",
   "metadata": {},
   "outputs": [],
   "source": [
    "Q3. What is Beautiful Soup? Why is it used?"
   ]
  },
  {
   "cell_type": "code",
   "execution_count": null,
   "id": "bb495e6e-eed2-4373-b7ab-acf0007b78e6",
   "metadata": {},
   "outputs": [],
   "source": [
    "Beautiful Soup is a Python library.\n",
    "It is used for web scraping purposes. \n",
    "It creates a parse tree from page source code that \n",
    "can be used to extract data in a hierarchical and more readable manner. Beautiful Soup helps you pull particular content\n",
    "from a webpage, remove the HTML markup, and save the information. It is a tool for web scraping that helps you clean up \n",
    "and parse the documents you have pulled down from the web."
   ]
  },
  {
   "cell_type": "code",
   "execution_count": null,
   "id": "41807932-899d-4677-aa1b-6623c1cfb94a",
   "metadata": {},
   "outputs": [],
   "source": [
    "-----------------------------------------------------------------------------------------------------------------------------"
   ]
  },
  {
   "cell_type": "code",
   "execution_count": null,
   "id": "2a0e6d73-8382-4dbe-aac4-7c7b2775ca5a",
   "metadata": {},
   "outputs": [],
   "source": [
    "Q4. Why is flask used in this Web Scraping project?"
   ]
  },
  {
   "cell_type": "code",
   "execution_count": null,
   "id": "e9a494c8-b007-40c9-bb63-800727b14771",
   "metadata": {},
   "outputs": [],
   "source": [
    "Flask is a lightweight framework to build websites. We’ll use this to parse our collected data and display it as HTML in \n",
    "a new HTML file. The requests module allows us to send http requests to the website we want to scrape."
   ]
  },
  {
   "cell_type": "code",
   "execution_count": null,
   "id": "935ea3ae-7e3b-4691-9900-a4df29831b37",
   "metadata": {},
   "outputs": [],
   "source": [
    "-----------------------------------------------------------------------------------------------------------------------------"
   ]
  },
  {
   "cell_type": "code",
   "execution_count": null,
   "id": "d767521a-67cc-41b7-9ff8-c1630c82754a",
   "metadata": {},
   "outputs": [],
   "source": [
    "Q5. Write the names of AWS services used in this project. Also, explain the use of each service."
   ]
  },
  {
   "cell_type": "code",
   "execution_count": null,
   "id": "6a060c5b-3890-41b7-86c3-e45081485266",
   "metadata": {},
   "outputs": [],
   "source": [
    "1. AWS Elastic Beanstalk\n",
    "2. AWS Code pipeline\n",
    "\n",
    "AWS Elastic Beanstalk: \n",
    "                     It is an AWS-managed service for web applications. Elastic Beanstalk is a pre-configured EC2 server that\n",
    "                     can directly take up your application code and environment configurations and use it to automatically\n",
    "                     provision and deploy the required resources within AWS to run the web application. Unlike EC2 which is \n",
    "                     Infrastructure as a service, Elastic Beanstalk is a Platform As A Service (PAAS) as it allows users to \n",
    "                     directly use a pre-configured server for their application. Of course, you can deploy applications without\n",
    "                     ever having to use elastic beanstalk but that would mean having to choose the appropriate service from the \n",
    "                     vast array of services offered by  AWS, manually provisioning these AWS resources, and stitching them up \n",
    "                     together to form a complete web application. Elastic Beanstalk abstracts the underlying configuration work \n",
    "                     and allows you as a user to focus on more pressing matters.\n",
    "\n",
    "AWS Code pipeline :\n",
    "                     This services helps you to Build, Tests and Deploy code when there is any code changes in your source\n",
    "                     code. We will learn how to create a simple pipeline that pulls code from GitHub repository and automatically\n",
    "                     deploy to AWS EC2 instances."
   ]
  }
 ],
 "metadata": {
  "kernelspec": {
   "display_name": "Python 3 (ipykernel)",
   "language": "python",
   "name": "python3"
  },
  "language_info": {
   "codemirror_mode": {
    "name": "ipython",
    "version": 3
   },
   "file_extension": ".py",
   "mimetype": "text/x-python",
   "name": "python",
   "nbconvert_exporter": "python",
   "pygments_lexer": "ipython3",
   "version": "3.10.8"
  }
 },
 "nbformat": 4,
 "nbformat_minor": 5
}
